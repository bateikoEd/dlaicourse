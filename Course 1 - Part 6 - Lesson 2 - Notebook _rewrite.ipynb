{
 "cells": [
  {
   "cell_type": "code",
   "execution_count": 31,
   "metadata": {},
   "outputs": [],
   "source": [
    "import tensorflow as tf\n",
    "mnist = tf.keras.datasets.fashion_mnist\n",
    "(training_images, training_labels), (test_images, test_labels) = mnist.load_data()\n",
    "training_images = training_images / 255\n",
    "test_images = test_images / 255\n"
   ]
  },
  {
   "cell_type": "code",
   "execution_count": 32,
   "metadata": {},
   "outputs": [
    {
     "name": "stdout",
     "output_type": "stream",
     "text": [
      "Epoch 1/5\n",
      "1875/1875 [==============================] - 1s 612us/step - loss: 0.4989 - accuracy: 0.8245\n",
      "Epoch 2/5\n",
      "1875/1875 [==============================] - 1s 625us/step - loss: 0.3784 - accuracy: 0.8629\n",
      "Epoch 3/5\n",
      "1875/1875 [==============================] - 1s 612us/step - loss: 0.3404 - accuracy: 0.8761\n",
      "Epoch 4/5\n",
      "1875/1875 [==============================] - 1s 610us/step - loss: 0.3167 - accuracy: 0.8839\n",
      "Epoch 5/5\n",
      "1875/1875 [==============================] - 1s 616us/step - loss: 0.2960 - accuracy: 0.8916\n",
      "313/313 [==============================] - 0s 617us/step - loss: 0.3474 - accuracy: 0.8725\n"
     ]
    }
   ],
   "source": [
    "model = tf.keras.models.Sequential([\n",
    "    tf.keras.layers.Flatten(),\n",
    "    tf.keras.layers.Dense(128, activation=tf.nn.relu),\n",
    "    tf.keras.layers.Dense(10, activation=tf.nn.softmax)\n",
    "])\n",
    "model.compile(optimizer='adam', loss='sparse_categorical_crossentropy', metrics=['accuracy'])\n",
    "model.fit(training_images, training_labels, epochs=5)\n",
    "\n",
    "test_los = model.evaluate(test_images, test_labels)"
   ]
  },
  {
   "cell_type": "code",
   "execution_count": 1,
   "metadata": {},
   "outputs": [],
   "source": [
    "from tensorflow.keras.layers import Dense, Conv2D, AvgPool2D,Flatten"
   ]
  },
  {
   "cell_type": "code",
   "execution_count": null,
   "metadata": {},
   "outputs": [],
   "source": [
    "model = tf.keras.models.Sequential()\n",
    "model.add(Flatten())\n",
    "model.add(Conv2D())"
   ]
  },
  {
   "cell_type": "code",
   "execution_count": 2,
   "metadata": {},
   "outputs": [
    {
     "name": "stdout",
     "output_type": "stream",
     "text": [
      "2.2.0\n"
     ]
    }
   ],
   "source": [
    "import tensorflow as tf\n",
    "print(tf.__version__)\n",
    "mnist = tf.keras.datasets.fashion_mnist\n",
    "(training_images, training_labels), (test_images, test_labels) = mnist.load_data()\n",
    "training_images = training_images.reshape(60000, 28,28,1)\n",
    "training_images = training_images / 255\n",
    "test_images = test_images.reshape(10000, 28,28,1)\n",
    "test_images =test_images / 255\n"
   ]
  },
  {
   "cell_type": "code",
   "execution_count": null,
   "metadata": {},
   "outputs": [],
   "source": [
    "model = tf.keras.models.Sequential([\n",
    "    tf.keras.layers.Conv2D(64, (3,3), activation='relu', input_shape=(28,28,1)),\n",
    "    tf.keras.layers.MaxPooling2D(2,2),\n",
    "    tf.keras.layers.Conv2D(64, (3,3), activation=\"relu\"),\n",
    "    tf.keras.layers.MaxPooling2D(2,2),\n",
    "    tf.keras.layers.Flatten(),\n",
    "    tf.keras.layers.Dense(128, activation='relu'),\n",
    "    tf.keras.layers.Dense(10, activation='softmax')\n",
    "])\n",
    "model.compile(optimizer=\"adam\", loss='sparse_categorical_crossentropy', metrics=['accuracy'])\n",
    "model.summary()\n",
    "model.fit(training_images, training_labels, epochs=5)\n",
    "model.evaluate(test_images, test_labels)"
   ]
  },
  {
   "cell_type": "code",
   "execution_count": 28,
   "metadata": {},
   "outputs": [],
   "source": [
    "model2 = tf.keras.models.Sequential()\n",
    "model2.add(tf.keras.layers.Conv2D(28, (5,5), strides=(1,1),activation='relu', input_shape=(28,28,1)))\n",
    "model2.add(tf.keras.layers.AveragePooling2D(strides=(2,2)))\n",
    "model2.add(tf.keras.layers.Conv2D(12, (2,2), strides=(2,2), activation='relu'))\n",
    "# model2.add(tf.keras.layers.Conv2D(8, (5,5), activation='relu'))\n",
    "model2.add(tf.keras.layers.AveragePooling2D(strides=(2,2)))\n",
    "model2.add(tf.keras.layers.Conv2D(6, (2,2), strides=(2,2), activation='relu'))\n",
    "model2.add(tf.keras.layers.Dense(128))\n",
    "model2.add(tf.keras.layers.Dense(64))\n",
    "model2.add(tf.keras.layers.Dense(10, activation='softmax'))"
   ]
  },
  {
   "cell_type": "code",
   "execution_count": 29,
   "metadata": {},
   "outputs": [
    {
     "name": "stdout",
     "output_type": "stream",
     "text": [
      "Model: \"sequential_11\"\n",
      "_________________________________________________________________\n",
      "Layer (type)                 Output Shape              Param #   \n",
      "=================================================================\n",
      "conv2d_40 (Conv2D)           (None, 24, 24, 28)        728       \n",
      "_________________________________________________________________\n",
      "average_pooling2d_19 (Averag (None, 12, 12, 28)        0         \n",
      "_________________________________________________________________\n",
      "conv2d_41 (Conv2D)           (None, 6, 6, 12)          1356      \n",
      "_________________________________________________________________\n",
      "average_pooling2d_20 (Averag (None, 3, 3, 12)          0         \n",
      "_________________________________________________________________\n",
      "conv2d_42 (Conv2D)           (None, 1, 1, 6)           294       \n",
      "_________________________________________________________________\n",
      "dense_20 (Dense)             (None, 1, 1, 128)         896       \n",
      "_________________________________________________________________\n",
      "dense_21 (Dense)             (None, 1, 1, 64)          8256      \n",
      "_________________________________________________________________\n",
      "dense_22 (Dense)             (None, 1, 1, 10)          650       \n",
      "=================================================================\n",
      "Total params: 12,180\n",
      "Trainable params: 12,180\n",
      "Non-trainable params: 0\n",
      "_________________________________________________________________\n"
     ]
    }
   ],
   "source": [
    "model2.compile(optimizer=\"adam\", loss='sparse_categorical_crossentropy', metrics=['accuracy'])\n",
    "model2.summary()"
   ]
  },
  {
   "cell_type": "code",
   "execution_count": 30,
   "metadata": {},
   "outputs": [
    {
     "name": "stdout",
     "output_type": "stream",
     "text": [
      "Epoch 1/5\n",
      "1875/1875 [==============================] - 6s 3ms/step - loss: 0.8170 - accuracy: 0.1184\n",
      "Epoch 2/5\n",
      "1875/1875 [==============================] - 6s 3ms/step - loss: 0.6368 - accuracy: 0.1208\n",
      "Epoch 3/5\n",
      "1875/1875 [==============================] - 6s 3ms/step - loss: 0.5949 - accuracy: 0.1213\n",
      "Epoch 4/5\n",
      "1875/1875 [==============================] - 6s 3ms/step - loss: 0.5674 - accuracy: 0.1218\n",
      "Epoch 5/5\n",
      "1875/1875 [==============================] - 6s 3ms/step - loss: 0.5463 - accuracy: 0.1221\n"
     ]
    },
    {
     "data": {
      "text/plain": [
       "<tensorflow.python.keras.callbacks.History at 0x7f8c90680b20>"
      ]
     },
     "execution_count": 30,
     "metadata": {},
     "output_type": "execute_result"
    }
   ],
   "source": [
    "model2.fit(training_images, training_labels, epochs=5)"
   ]
  },
  {
   "cell_type": "code",
   "execution_count": null,
   "metadata": {},
   "outputs": [],
   "source": []
  }
 ],
 "metadata": {
  "kernelspec": {
   "display_name": "Python (my_env)",
   "language": "python",
   "name": "my_env"
  },
  "language_info": {
   "codemirror_mode": {
    "name": "ipython",
    "version": 3
   },
   "file_extension": ".py",
   "mimetype": "text/x-python",
   "name": "python",
   "nbconvert_exporter": "python",
   "pygments_lexer": "ipython3",
   "version": "3.8.3"
  }
 },
 "nbformat": 4,
 "nbformat_minor": 4
}
